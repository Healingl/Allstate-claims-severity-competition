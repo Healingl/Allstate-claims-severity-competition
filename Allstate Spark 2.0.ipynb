{
 "cells": [
  {
   "cell_type": "code",
   "execution_count": 1,
   "metadata": {
    "collapsed": false
   },
   "outputs": [
    {
     "name": "stdout",
     "output_type": "stream",
     "text": [
      "Successfully imported Spark Modules\n",
      "5\n",
      "defaultdict(<class 'int'>, {'spark': 1, 'hadoop': 1, 'scala': 1, 'akka': 1, 'java': 1})\n"
     ]
    }
   ],
   "source": [
    "#### This cell is to make spark work on a windows laptop\n",
    "import os\n",
    "import sys\n",
    "\n",
    "# Path for spark source folder\n",
    "os.environ['SPARK_HOME']=\"C:\\spark-2.0.1-bin-hadoop2.7\"\n",
    "\n",
    "# Append pyspark  to Python Path\n",
    "sys.path.append(\"C:\\spark-2.0.1-bin-hadoop2.7\\python\")\n",
    "sys.path.append(\"C:\\spark-2.0.1-bin-hadoop2.7\\python\\lib\\py4j-0.10.3-src.zip\")\n",
    "#os.environ['SPARK_EXECUTOR_MEMORY']=\"5G\"\n",
    "\n",
    "try:\n",
    "    from pyspark import SparkContext\n",
    "    from pyspark import SparkConf\n",
    "    print (\"Successfully imported Spark Modules\")\n",
    "\n",
    "except ImportError as e:\n",
    "    print (\"Can not import Spark Modules\", e)\n",
    "    sys.exit(1)\n",
    "\n",
    "# Initialize SparkContext\n",
    "sc = SparkContext()\n",
    "words = sc.parallelize([\"scala\",\"java\",\"hadoop\",\"spark\",\"akka\"])\n",
    "print (words.count())\n",
    "print(words.countByValue())"
   ]
  },
  {
   "cell_type": "code",
   "execution_count": 98,
   "metadata": {
    "collapsed": false
   },
   "outputs": [],
   "source": [
    "import os\n",
    "import sys\n",
    "import re\n",
    "from IPython.display import display\n",
    "from pyspark import SparkContext\n",
    "from pyspark import SparkContext\n",
    "from pyspark.sql import SQLContext\n",
    "from pyspark.sql import types\n",
    "from pyspark.sql import Row\n",
    "from pyspark.sql import functions\n",
    "from pyspark.sql import SparkSession\n",
    "%matplotlib inline\n",
    "import matplotlib.pyplot as plt\n",
    "import matplotlib.mlab as mlab\n",
    "import pandas as pd\n",
    "import numpy as np\n",
    "import pyspark.sql.functions as func\n",
    "import matplotlib.patches as mpatches\n",
    "import time as time\n",
    "from matplotlib.patches import Rectangle\n",
    "import datetime\n",
    "import ast\n",
    "from operator import add\n",
    "import math\n",
    "from itertools import combinations\n",
    "from pyspark.mllib.regression import LabeledPoint\n",
    "from pyspark.mllib.classification import NaiveBayes\n",
    "from pyspark.mllib.regression import LinearRegressionWithSGD\n",
    "from pyspark.mllib.linalg.distributed import RowMatrix\n",
    "from pyspark.ml.linalg import Vectors, VectorUDT\n",
    "from pyspark.ml import Pipeline\n",
    "from pyspark.ml.regression import *\n",
    "from pyspark.ml.feature import *\n",
    "from pyspark.ml.evaluation import RegressionEvaluator\n",
    "from pyspark.ml import Pipeline\n",
    "from pyspark.ml.classification import *\n",
    "from pyspark.ml.evaluation import BinaryClassificationEvaluator\n",
    "from pyspark.ml.tuning import CrossValidator, ParamGridBuilder\n",
    "import random\n",
    "\n",
    "log4jLogger = sc._jvm.org.apache.log4j\n",
    "LOGGER = log4jLogger.LogManager.getLogger(__name__)"
   ]
  },
  {
   "cell_type": "markdown",
   "metadata": {},
   "source": [
    "# First step: cleaning the data"
   ]
  },
  {
   "cell_type": "code",
   "execution_count": 3,
   "metadata": {
    "collapsed": false
   },
   "outputs": [
    {
     "name": "stdout",
     "output_type": "stream",
     "text": [
      "number of rows before cleaning: 188319\n",
      "number of rows after cleaning: 188319\n",
      "Number of partitions: 2\n"
     ]
    }
   ],
   "source": [
    "input_path = \"train.csv\"\n",
    "raw_data = sc.textFile(input_path)\n",
    "print(\"number of rows before cleaning:\", raw_data.count())\n",
    "\n",
    "# extract the header\n",
    "header = raw_data.first()\n",
    "\n",
    "# replace invalid data with NULL and remove header\n",
    "cleaned_data = raw_data.filter(lambda row: row != header)\n",
    "\n",
    "print(\"number of rows after cleaning:\", raw_data.count())\n",
    "print(\"Number of partitions: \" + str(raw_data.getNumPartitions()))\n",
    "\n",
    "sqlContext = SQLContext(sc)"
   ]
  },
  {
   "cell_type": "markdown",
   "metadata": {},
   "source": [
    "We now need to put our data into a dataframe, so that it's going to be easier to plot graphs and get a better insight into our data."
   ]
  },
  {
   "cell_type": "code",
   "execution_count": 4,
   "metadata": {
    "collapsed": false
   },
   "outputs": [
    {
     "data": {
      "text/plain": [
       "'id;cat1;cat2;cat3;cat4;cat5;cat6;cat7;cat8;cat9;cat10;cat11;cat12;cat13;cat14;cat15;cat16;cat17;cat18;cat19;cat20;cat21;cat22;cat23;cat24;cat25;cat26;cat27;cat28;cat29;cat30;cat31;cat32;cat33;cat34;cat35;cat36;cat37;cat38;cat39;cat40;cat41;cat42;cat43;cat44;cat45;cat46;cat47;cat48;cat49;cat50;cat51;cat52;cat53;cat54;cat55;cat56;cat57;cat58;cat59;cat60;cat61;cat62;cat63;cat64;cat65;cat66;cat67;cat68;cat69;cat70;cat71;cat72;cat73;cat74;cat75;cat76;cat77;cat78;cat79;cat80;cat81;cat82;cat83;cat84;cat85;cat86;cat87;cat88;cat89;cat90;cat91;cat92;cat93;cat94;cat95;cat96;cat97;cat98;cat99;cat100;cat101;cat102;cat103;cat104;cat105;cat106;cat107;cat108;cat109;cat110;cat111;cat112;cat113;cat114;cat115;cat116;cont1;cont2;cont3;cont4;cont5;cont6;cont7;cont8;cont9;cont10;cont11;cont12;cont13;cont14;loss'"
      ]
     },
     "execution_count": 4,
     "metadata": {},
     "output_type": "execute_result"
    }
   ],
   "source": [
    "header"
   ]
  },
  {
   "cell_type": "markdown",
   "metadata": {},
   "source": [
    "Our taget is the loss. The id isn't actually useful and will be removed later. \"cat\" means categorical feature and \"cont\" means a continuous feature. we will use that to create the data schema. Note that we'll convert strings in Ints since it's easier to manipulate them later. (In particular for partitioning)."
   ]
  },
  {
   "cell_type": "code",
   "execution_count": 5,
   "metadata": {
    "collapsed": false
   },
   "outputs": [],
   "source": [
    "names = header.split(\";\")"
   ]
  },
  {
   "cell_type": "code",
   "execution_count": 6,
   "metadata": {
    "collapsed": false
   },
   "outputs": [],
   "source": [
    "cats = names[1:117]\n",
    "conts = names[117:-1]"
   ]
  },
  {
   "cell_type": "code",
   "execution_count": 7,
   "metadata": {
    "collapsed": true
   },
   "outputs": [],
   "source": [
    "def create_StructField(string):\n",
    "    hint = string[:3]\n",
    "    if hint == \"cat\":\n",
    "        datatype = types.IntegerType()\n",
    "    elif hint == \"con\":\n",
    "        datatype = types.FloatType()\n",
    "    elif hint == \"id\":\n",
    "        datatype = types.IntegerType()\n",
    "    elif hint == \"los\":\n",
    "        datatype = types.FloatType()\n",
    "    else:\n",
    "        raise ValueError(\"Can\\'t read this string:\" + hint )\n",
    "\n",
    "    return types.StructField(string, datatype, False)"
   ]
  },
  {
   "cell_type": "code",
   "execution_count": 8,
   "metadata": {
    "collapsed": false
   },
   "outputs": [],
   "source": [
    "structField_list = [create_StructField(string) for string in names]"
   ]
  },
  {
   "cell_type": "code",
   "execution_count": 9,
   "metadata": {
    "collapsed": false
   },
   "outputs": [],
   "source": [
    "data_schema = types.StructType(structField_list)"
   ]
  },
  {
   "cell_type": "code",
   "execution_count": 10,
   "metadata": {
    "collapsed": false
   },
   "outputs": [],
   "source": [
    "def tryeval(val,column_number):\n",
    "    if column_number == 0:\n",
    "        return int(val)\n",
    "    elif 1 <= column_number <= 116:\n",
    "        return val\n",
    "    elif 117 <= column_number <= 131:\n",
    "        return float(val)\n",
    "    else:\n",
    "        raise Exception(\"There is a big problem\")\n",
    "\n",
    "def to_tuple(string, character = \";\"):\n",
    "    list_of_strings = string.split(character)\n",
    "    return tuple(tryeval(string, n) for n, string in enumerate(list_of_strings))\n",
    "\n",
    "cleaned_data_splitted = cleaned_data.map(lambda x: to_tuple(x))"
   ]
  },
  {
   "cell_type": "code",
   "execution_count": 11,
   "metadata": {
    "collapsed": false,
    "scrolled": false
   },
   "outputs": [
    {
     "data": {
      "text/plain": [
       "188318"
      ]
     },
     "execution_count": 11,
     "metadata": {},
     "output_type": "execute_result"
    }
   ],
   "source": [
    "cleaned_data_splitted.count()"
   ]
  },
  {
   "cell_type": "markdown",
   "metadata": {},
   "source": [
    "Now, we'll try to convert the categorical values in integers as it's way easier to work with later on."
   ]
  },
  {
   "cell_type": "code",
   "execution_count": 12,
   "metadata": {
    "collapsed": false
   },
   "outputs": [],
   "source": [
    "def to_tuples(list_):\n",
    "    return tuple((string,) for string in list_)\n",
    "\n",
    "def fusion(x, y):\n",
    "    return tuple(tuple(set(xi + yi)) for xi, yi in zip(x,y))\n",
    "\n",
    "list_of_dictionaries = []\n",
    "a = cleaned_data_splitted.map(lambda x: to_tuples(x[1:117])).reduce(fusion)"
   ]
  },
  {
   "cell_type": "code",
   "execution_count": 13,
   "metadata": {
    "collapsed": false
   },
   "outputs": [],
   "source": [
    "sorted_tuples = tuple(tuple(sorted(tup)) for tup in a)"
   ]
  },
  {
   "cell_type": "markdown",
   "metadata": {},
   "source": [
    "Now we have all the categories in order. We'll put them in a list of dictionaries as it makes it simpler to modify the RDD after that."
   ]
  },
  {
   "cell_type": "code",
   "execution_count": 14,
   "metadata": {
    "collapsed": false
   },
   "outputs": [],
   "source": [
    "for tup in sorted_tuples:\n",
    "    my_dict = dict()\n",
    "    for idx, cat in enumerate(tup):\n",
    "        my_dict[cat] = idx\n",
    "    list_of_dictionaries.append(my_dict)"
   ]
  },
  {
   "cell_type": "code",
   "execution_count": 15,
   "metadata": {
    "collapsed": false
   },
   "outputs": [
    {
     "data": {
      "text/plain": [
       "{'A': 0, 'B': 1}"
      ]
     },
     "execution_count": 15,
     "metadata": {},
     "output_type": "execute_result"
    }
   ],
   "source": [
    "list_of_dictionaries[0]"
   ]
  },
  {
   "cell_type": "code",
   "execution_count": 16,
   "metadata": {
    "collapsed": true
   },
   "outputs": [],
   "source": [
    "bListOfDictionaries = sc.broadcast(list_of_dictionaries)"
   ]
  },
  {
   "cell_type": "code",
   "execution_count": 17,
   "metadata": {
    "collapsed": true
   },
   "outputs": [],
   "source": [
    "def replace(row):\n",
    "    strings = row[1:117]\n",
    "    my_dicts = bListOfDictionaries.value\n",
    "    tuple_of_ints = ()\n",
    "    for dict_, string in zip(my_dicts, strings):\n",
    "        try:\n",
    "            tuple_of_ints += (dict_[string],)\n",
    "        except KeyError:\n",
    "            tuple_of_ints += (0,)\n",
    "    return (row[0],) + tuple_of_ints + row[117:]"
   ]
  },
  {
   "cell_type": "code",
   "execution_count": 18,
   "metadata": {
    "collapsed": false
   },
   "outputs": [],
   "source": [
    "final_rdd = cleaned_data_splitted.map(replace)"
   ]
  },
  {
   "cell_type": "markdown",
   "metadata": {},
   "source": [
    "we now have integers instead of \"A\" or \"C\" or any other string."
   ]
  },
  {
   "cell_type": "code",
   "execution_count": 19,
   "metadata": {
    "collapsed": false,
    "scrolled": true
   },
   "outputs": [
    {
     "name": "stdout",
     "output_type": "stream",
     "text": [
      "(1, 0, 1, 0, 1, 0, 0, 0, 0, 1, 0, 1, 0, 0, 0, 0, 0, 0, 0, 0, 0, 0, 0, 1, 0, 0, 0, 0, 0, 0, 0, 0, 0, 0, 0, 0, 0, 0, 0, 0, 0, 0, 0, 0, 0, 0, 0, 0, 0, 0, 0, 0, 0, 0, 0, 0, 0, 0, 0, 0, 0, 0, 0, 0, 0, 0, 0, 0, 0, 0, 0, 0, 0, 0, 0, 1, 0, 3, 1, 1, 3, 3, 1, 3, 2, 1, 3, 1, 0, 0, 0, 0, 0, 3, 1, 2, 4, 0, 2, 15, 1, 6, 0, 0, 8, 4, 6, 9, 6, 45, 28, 2, 19, 55, 0, 14, 269, 0.7263, 0.245921, 0.187583, 0.789639, 0.310061, 0.718367, 0.33506, 0.3026, 0.67135, 0.8351, 0.569745, 0.594646, 0.822493, 0.714843, 2213.18)\n"
     ]
    }
   ],
   "source": [
    "print(final_rdd.first())"
   ]
  },
  {
   "cell_type": "code",
   "execution_count": 20,
   "metadata": {
    "collapsed": false
   },
   "outputs": [],
   "source": [
    "to_delete = [2,3,4,5,6,7,8,96]    # cela correspond à cat2, cat3, cat4 ...\n",
    "features_to_keep = list(range(116))\n",
    "for idx in to_delete:\n",
    "    features_to_keep.remove(idx - 1) # Car to_delete commence à 1"
   ]
  },
  {
   "cell_type": "code",
   "execution_count": 20,
   "metadata": {
    "collapsed": true
   },
   "outputs": [],
   "source": [
    "df = sqlContext.createDataFrame(final_rdd.map(lambda x: (float(x[-1]), Vectors.dense(x[1:-1]))), [\"label\", \"features\"])"
   ]
  },
  {
   "cell_type": "code",
   "execution_count": 50,
   "metadata": {
    "collapsed": false
   },
   "outputs": [],
   "source": [
    "indexer = VectorIndexer(inputCol=\"features\", outputCol=\"indexedFeatures\", maxCategories=20).fit(df)"
   ]
  },
  {
   "cell_type": "code",
   "execution_count": 51,
   "metadata": {
    "collapsed": false
   },
   "outputs": [],
   "source": [
    "(train, test) = df.randomSplit([0.7, 0.3])"
   ]
  },
  {
   "cell_type": "code",
   "execution_count": 52,
   "metadata": {
    "collapsed": true
   },
   "outputs": [],
   "source": [
    "dt = DecisionTreeRegressor(labelCol=\"label\", featuresCol=\"indexedFeatures\", maxDepth=20, maxBins=20)"
   ]
  },
  {
   "cell_type": "code",
   "execution_count": 53,
   "metadata": {
    "collapsed": false
   },
   "outputs": [],
   "source": [
    "pipeline = Pipeline(stages=[indexer, dt])"
   ]
  },
  {
   "cell_type": "code",
   "execution_count": 54,
   "metadata": {
    "collapsed": false
   },
   "outputs": [],
   "source": [
    "model = pipeline.fit(train)"
   ]
  },
  {
   "cell_type": "code",
   "execution_count": 55,
   "metadata": {
    "collapsed": true
   },
   "outputs": [],
   "source": [
    "predictionsTrain = model.transform(train)\n",
    "predictionsTest = model.transform(test)"
   ]
  },
  {
   "cell_type": "code",
   "execution_count": 68,
   "metadata": {
    "collapsed": false,
    "scrolled": true
   },
   "outputs": [
    {
     "name": "stdout",
     "output_type": "stream",
     "text": [
      "Mean Squared Error (MSE) on test data = 631.863\n",
      "Mean Squared Error (MSE) on test data = 1570.83\n"
     ]
    }
   ],
   "source": [
    "evaluator = RegressionEvaluator(metricName=\"mae\")\n",
    "rmseTrain = evaluator.evaluate(predictionsTrain)\n",
    "print(\"Mean Squared Error (MSE) on test data = %g\" % rmseTrain)\n",
    "\n",
    "rmseTest = evaluator.evaluate(predictionsTest)\n",
    "print(\"Mean Squared Error (MSE) on test data = %g\" % rmseTest)"
   ]
  },
  {
   "cell_type": "code",
   "execution_count": 25,
   "metadata": {
    "collapsed": false
   },
   "outputs": [],
   "source": [
    "# Defining the transformations\n",
    "slicer = VectorSlicer(inputCol=\"features\", outputCol=\"featuresSliced\", indices = features_to_keep)\n",
    "indexer = VectorIndexer(inputCol=\"featuresSliced\", outputCol=\"indexedFeatures\", maxCategories=20).fit(slicer.transform(df))\n",
    "dt = DecisionTreeRegressor(labelCol=\"label\", featuresCol=\"indexedFeatures\", maxBins=20, minInstancesPerNode=1, minInfoGain=0.0, maxMemoryInMB=256, cacheNodeIds=False, checkpointInterval=10, impurity=\"variance\")\n",
    "\n",
    "# defining the pipeline\n",
    "pipeline = Pipeline(stages=[slicer, indexer, dt])\n",
    "\n",
    "# defining the parameters to test\n",
    "paramGrid = ParamGridBuilder() \\\n",
    "    .addGrid(dt.maxDepth, [5]) \\\n",
    "    .build()\n",
    "    \n",
    "myRegressor = RegressionEvaluator(metricName=\"mae\")\n",
    "    \n",
    "# defining the cross-validation\n",
    "crossval = CrossValidator(estimator=pipeline,\n",
    "                          estimatorParamMaps=paramGrid,\n",
    "                          evaluator=myRegressor,\n",
    "                          numFolds=2)  # use 3+ folds in practice\n",
    "\n",
    "# Run cross-validation, and choose the best set of parameters.\n",
    "cvModel = crossval.fit(df)"
   ]
  },
  {
   "cell_type": "markdown",
   "metadata": {},
   "source": [
    "Cross-validation results (we see that the depth of 10 is better):"
   ]
  },
  {
   "cell_type": "code",
   "execution_count": 26,
   "metadata": {
    "collapsed": false
   },
   "outputs": [
    {
     "data": {
      "text/plain": [
       "[1433.5199130594435]"
      ]
     },
     "execution_count": 26,
     "metadata": {},
     "output_type": "execute_result"
    }
   ],
   "source": [
    "cvModel.avgMetrics"
   ]
  },
  {
   "cell_type": "markdown",
   "metadata": {},
   "source": [
    "Best model:"
   ]
  },
  {
   "cell_type": "code",
   "execution_count": 27,
   "metadata": {
    "collapsed": false
   },
   "outputs": [
    {
     "data": {
      "text/plain": [
       "PipelineModel_4377bc1d5dd4a225144b"
      ]
     },
     "execution_count": 27,
     "metadata": {},
     "output_type": "execute_result"
    }
   ],
   "source": [
    "cvModel.bestModel"
   ]
  },
  {
   "cell_type": "markdown",
   "metadata": {},
   "source": [
    "Training error for the best model (we're overfitting)"
   ]
  },
  {
   "cell_type": "code",
   "execution_count": 28,
   "metadata": {
    "collapsed": false
   },
   "outputs": [
    {
     "data": {
      "text/plain": [
       "1424.2979358651687"
      ]
     },
     "execution_count": 28,
     "metadata": {},
     "output_type": "execute_result"
    }
   ],
   "source": [
    "RegressionEvaluator(metricName=\"mae\").evaluate(cvModel.bestModel.transform(df))"
   ]
  },
  {
   "cell_type": "markdown",
   "metadata": {},
   "source": [
    "Now we can try with all the features:"
   ]
  },
  {
   "cell_type": "code",
   "execution_count": 83,
   "metadata": {
    "collapsed": false
   },
   "outputs": [],
   "source": [
    "indexer = VectorIndexer(inputCol=\"features\", outputCol=\"indexedFeatures\", maxCategories=20).fit(df)\n",
    "dt = DecisionTreeRegressor(labelCol=\"label\", featuresCol=\"indexedFeatures\", maxBins=20)\n",
    "\n",
    "# defining the pipeline\n",
    "pipeline = Pipeline(stages=[slicer, indexer, dt])\n",
    "\n",
    "# defining the parameters to test\n",
    "paramGrid = ParamGridBuilder() \\\n",
    "    .addGrid(dt.maxDepth, [10, 20]) \\\n",
    "    .build()\n",
    "    \n",
    "# defining the cross-validation\n",
    "crossval = CrossValidator(estimator=pipeline,\n",
    "                          estimatorParamMaps=paramGrid,\n",
    "                          evaluator=RegressionEvaluator(metricName=\"mae\"),\n",
    "                          numFolds=2)  # use 3+ folds in practice\n",
    "\n",
    "# Run cross-validation, and choose the best set of parameters.\n",
    "cvModel = crossval.fit(df)"
   ]
  },
  {
   "cell_type": "markdown",
   "metadata": {},
   "source": [
    "Is it better than last time?"
   ]
  },
  {
   "cell_type": "code",
   "execution_count": 84,
   "metadata": {
    "collapsed": false,
    "scrolled": false
   },
   "outputs": [
    {
     "data": {
      "text/plain": [
       "[1359.6923954368876, 1588.2854298996053]"
      ]
     },
     "execution_count": 84,
     "metadata": {},
     "output_type": "execute_result"
    }
   ],
   "source": [
    "cvModel.avgMetrics"
   ]
  },
  {
   "cell_type": "markdown",
   "metadata": {},
   "source": [
    "We see that those features bring absolutely no information. As shown in the other notebook \"Allstate competition.ipynb\"."
   ]
  },
  {
   "cell_type": "code",
   "execution_count": 39,
   "metadata": {
    "collapsed": false
   },
   "outputs": [
    {
     "name": "stdout",
     "output_type": "stream",
     "text": [
      "+-------+--------------------+--------------------+\n",
      "|  label|            features|      scaledFeatures|\n",
      "+-------+--------------------+--------------------+\n",
      "|2213.18|[0.0,1.0,0.0,1.0,...|[0.0,1.0,0.0,1.0,...|\n",
      "+-------+--------------------+--------------------+\n",
      "only showing top 1 row\n",
      "\n",
      "None\n",
      "[1331.6055414944035]\n",
      "1329.4492453430448\n",
      "[MinMaxScaler_4aeb955f79fe5cfac729, LinearRegression_48a4bb18db05c6db6cc5]\n"
     ]
    }
   ],
   "source": [
    "from pyspark.ml.regression import LinearRegression\n",
    "from pyspark.ml.feature import MinMaxScaler\n",
    "# Defining the transformations\n",
    "scaler = MinMaxScaler(inputCol=\"features\", outputCol=\"scaledFeatures\").fit(df)\n",
    "\n",
    "print(scaler.transform(df).show(1))\n",
    "dt = LinearRegression(featuresCol=\"scaledFeatures\")\n",
    "\n",
    "# defining the pipeline\n",
    "pipeline = Pipeline(stages=[scaler,dt])\n",
    "\n",
    "# defining the parameters to test\n",
    "paramGrid = ParamGridBuilder() \\\n",
    "    .addGrid(dt.maxIter, [25]) \\\n",
    "    .build()\n",
    "    \n",
    "myEvaluator = RegressionEvaluator(metricName=\"mae\")\n",
    "# defining the cross-validation\n",
    "crossval = CrossValidator(estimator=pipeline,\n",
    "                          estimatorParamMaps=paramGrid,\n",
    "                          evaluator=myEvaluator,\n",
    "                          numFolds=2)  # use 3+ folds in practice\n",
    "\n",
    "# Run cross-validation, and choose the best set of parameters.\n",
    "cvModel = crossval.fit(df)\n",
    "\n",
    "print(cvModel.avgMetrics)\n",
    "print(myEvaluator.evaluate(cvModel.bestModel.transform(df)))\n",
    "print(cvModel.bestModel.stages)\n"
   ]
  },
  {
   "cell_type": "code",
   "execution_count": 21,
   "metadata": {
    "collapsed": true
   },
   "outputs": [],
   "source": [
    "df = sqlContext.createDataFrame(final_rdd.map(lambda x: (float(x[-1]), Vectors.dense(x[1:117]), Vectors.dense(x[117:-1]))), [\"label\", \"cat_features\", \"cont_features\"])"
   ]
  },
  {
   "cell_type": "code",
   "execution_count": 22,
   "metadata": {
    "collapsed": false
   },
   "outputs": [
    {
     "name": "stdout",
     "output_type": "stream",
     "text": [
      "+-------+--------------------+--------------------+\n",
      "|  label|        cat_features|       cont_features|\n",
      "+-------+--------------------+--------------------+\n",
      "|2213.18|[0.0,1.0,0.0,1.0,...|[0.7263,0.245921,...|\n",
      "+-------+--------------------+--------------------+\n",
      "only showing top 1 row\n",
      "\n"
     ]
    }
   ],
   "source": [
    "df.show(1)"
   ]
  },
  {
   "cell_type": "markdown",
   "metadata": {},
   "source": [
    "Let's try different configurations for a random forest."
   ]
  },
  {
   "cell_type": "code",
   "execution_count": 65,
   "metadata": {
    "collapsed": false
   },
   "outputs": [],
   "source": [
    "# Defining the transformations\n",
    "indexer = VectorIndexer(inputCol=\"cat_features\", outputCol=\"indexedFeatures\", maxCategories=20).fit(df)\n",
    "slicer_cat = VectorSlicer(inputCol=\"indexedFeatures\", outputCol=\"sliced_cat_Features\", indices=features_to_keep)\n",
    "slicer_cont = VectorSlicer(inputCol=\"cont_features\", outputCol=\"sliced_cont_Features\", indices = list(range(1)))\n",
    "assembler = VectorAssembler(inputCols=[\"sliced_cat_Features\", \"sliced_cont_Features\"], outputCol=\"features\")\n",
    "\n",
    "rf = RandomForestRegressor(labelCol=\"label\", featuresCol=\"features\", maxBins=280,\\\n",
    "                           maxMemoryInMB=500, subsamplingRate=0.9, cacheNodeIds=True, \n",
    "                           checkpointInterval=10, numTrees=5)\n",
    "\n",
    "# defining the pipeline\n",
    "pipeline = Pipeline(stages=[indexer, slicer_cat, slicer_cont, assembler, rf])\n",
    "\n",
    "# defining the parameters to test\n",
    "paramGrid = ParamGridBuilder() \\\n",
    "    .addGrid(rf.maxDepth, [3]) \\\n",
    "    .build()\n",
    "    \n",
    "myRegressor = RegressionEvaluator(metricName=\"mae\")\n",
    "    \n",
    "# defining the cross-validation\n",
    "crossval = CrossValidator(estimator=pipeline,\n",
    "                          estimatorParamMaps=paramGrid,\n",
    "                          evaluator=myRegressor,\n",
    "                          numFolds=3)  # use 3+ folds in practice\n",
    "\n",
    "# Run cross-validation, and choose the best set of parameters.\n",
    "cvModel = crossval.fit(df)"
   ]
  },
  {
   "cell_type": "code",
   "execution_count": 67,
   "metadata": {
    "collapsed": false
   },
   "outputs": [
    {
     "name": "stdout",
     "output_type": "stream",
     "text": [
      "[1506.7323171092319]\n",
      "1505.6181538122055\n",
      "[VectorIndexer_4557be16f2cf9e01e187, VectorSlicer_4ee8b70f28ee273d0226, VectorSlicer_4740827b3bfdca001282, VectorAssembler_4a18a2d0732f223883b7, RandomForestRegressionModel (uid=rfr_a9b44af90c4d) with 5 trees]\n"
     ]
    }
   ],
   "source": [
    "print(cvModel.avgMetrics)\n",
    "print(myRegressor.evaluate(cvModel.bestModel.transform(df)))\n",
    "print(cvModel.bestModel.stages)"
   ]
  },
  {
   "cell_type": "code",
   "execution_count": 23,
   "metadata": {
    "collapsed": false
   },
   "outputs": [
    {
     "data": {
      "text/plain": [
       "['label', 'cat_features', 'cont_features']"
      ]
     },
     "execution_count": 23,
     "metadata": {},
     "output_type": "execute_result"
    }
   ],
   "source": [
    "df.columns"
   ]
  },
  {
   "cell_type": "code",
   "execution_count": 24,
   "metadata": {
    "collapsed": false,
    "scrolled": true
   },
   "outputs": [
    {
     "data": {
      "text/plain": [
       "Row(label=2213.18, cat_features=DenseVector([0.0, 1.0, 0.0, 1.0, 0.0, 0.0, 0.0, 0.0, 1.0, 0.0, 1.0, 0.0, 0.0, 0.0, 0.0, 0.0, 0.0, 0.0, 0.0, 0.0, 0.0, 0.0, 1.0, 0.0, 0.0, 0.0, 0.0, 0.0, 0.0, 0.0, 0.0, 0.0, 0.0, 0.0, 0.0, 0.0, 0.0, 0.0, 0.0, 0.0, 0.0, 0.0, 0.0, 0.0, 0.0, 0.0, 0.0, 0.0, 0.0, 0.0, 0.0, 0.0, 0.0, 0.0, 0.0, 0.0, 0.0, 0.0, 0.0, 0.0, 0.0, 0.0, 0.0, 0.0, 0.0, 0.0, 0.0, 0.0, 0.0, 0.0, 0.0, 0.0, 0.0, 0.0, 1.0, 0.0, 3.0, 1.0, 1.0, 3.0, 3.0, 1.0, 3.0, 2.0, 1.0, 3.0, 1.0, 0.0, 0.0, 0.0, 0.0, 0.0, 3.0, 1.0, 2.0, 4.0, 0.0, 2.0, 15.0, 1.0, 6.0, 0.0, 0.0, 8.0, 4.0, 6.0, 9.0, 6.0, 45.0, 28.0, 2.0, 19.0, 55.0, 0.0, 14.0, 269.0]), cont_features=DenseVector([0.7263, 0.2459, 0.1876, 0.7896, 0.3101, 0.7184, 0.3351, 0.3026, 0.6714, 0.8351, 0.5697, 0.5946, 0.8225, 0.7148]))"
      ]
     },
     "execution_count": 24,
     "metadata": {},
     "output_type": "execute_result"
    }
   ],
   "source": [
    "df.rdd.first()"
   ]
  },
  {
   "cell_type": "code",
   "execution_count": 25,
   "metadata": {
    "collapsed": true
   },
   "outputs": [],
   "source": [
    " def t(element, fitInfo = 0, args = []):\n",
    "        new_tup = tuple(int(scalar*args[0]) for scalar in element)\n",
    "        return Vectors.dense(new_tup)"
   ]
  },
  {
   "cell_type": "code",
   "execution_count": 55,
   "metadata": {
    "collapsed": false
   },
   "outputs": [],
   "source": [
    "class customTransformer:\n",
    "    \n",
    "    def __init__(self, inputCol, outputCol, *others):\n",
    "        self.inputCol = inputCol\n",
    "        self.outputCol = outputCol\n",
    "        self.args = list(others)\n",
    "        self.fitInfo = 0\n",
    "        \n",
    "    # Store information taken from the dataframe\n",
    "    def fit(self, df, fitting):\n",
    "        idx = df.columns.index(self.inputCol)\n",
    "        self.fitInfo = fitting(df.rdd.map(lambda x: x[idx]))\n",
    "        return self\n",
    "            \n",
    "    # This transforms a dataframe into another dataframe\n",
    "    def transform(self, df, transforming):\n",
    "        \n",
    "        # We get the index of the colmumns we'll be working on\n",
    "        names = df.columns\n",
    "        idx = names.index(self.inputCol)\n",
    "        \n",
    "        # We apply the transformation\n",
    "        bInfo = sc.broadcast(tuple([0,[10]]))\n",
    "        new_column = df.rdd.map(lambda x: transforming(x[idx], bInfo.value[0], bInfo.value[1]), True)\n",
    "        \n",
    "        # We attach the results to the old rdd\n",
    "        old_rdd = df.rdd.map(lambda x: list(x))\n",
    "        new_rdd = old_rdd.zip(new_column).map(lambda x: x[0] + [x[1]])\n",
    "        new_names = names + [self.outputCol]\n",
    "        \n",
    "        return sqlContext.createDataFrame(new_rdd, new_names)"
   ]
  },
  {
   "cell_type": "code",
   "execution_count": 56,
   "metadata": {
    "collapsed": true
   },
   "outputs": [],
   "source": [
    "def apply(df, listOfTransformers):\n",
    "    df1 = df\n",
    "    for transformer in listOfTransformers:\n",
    "        df1 = transformer.transform(df1)\n",
    "    return df1"
   ]
  },
  {
   "cell_type": "code",
   "execution_count": 57,
   "metadata": {
    "collapsed": true
   },
   "outputs": [],
   "source": [
    "def t_bucketize(element, fitInfo = 0, args = []):\n",
    "    new_tup = tuple(int(scalar*args[0]) for scalar in element)\n",
    "    return Vectors.dense(new_tup)"
   ]
  },
  {
   "cell_type": "code",
   "execution_count": 61,
   "metadata": {
    "collapsed": true
   },
   "outputs": [],
   "source": [
    "# Pre-process\n",
    "df1 = customTransformer(\"cont_features\", \"cont_bucked_features\", 7).transform(df, t_bucketize).cache()"
   ]
  },
  {
   "cell_type": "code",
   "execution_count": 62,
   "metadata": {
    "collapsed": false,
    "scrolled": true
   },
   "outputs": [],
   "source": [
    "# Defining the transformations\n",
    "indexer_cat = VectorIndexer(inputCol=\"cat_features\", outputCol=\"cat_indexedFeatures\", maxCategories=20).fit(df1)\n",
    "indexer_cont = VectorIndexer(inputCol=\"cont_bucked_features\", outputCol=\"cont_indexedFeatures\", maxCategories=7).fit(df1)\n",
    "slicer_cat = VectorSlicer(inputCol=\"cat_indexedFeatures\", outputCol=\"sliced_cat_Features\", indices=features_to_keep)\n",
    "slicer_cont = VectorSlicer(inputCol=\"cont_indexedFeatures\", outputCol=\"sliced_cont_Features\", indices = list(range(2)))\n",
    "assembler = VectorAssembler(inputCols=[\"sliced_cat_Features\", \"sliced_cont_Features\"], outputCol=\"features\")\n",
    "\n",
    "rf = RandomForestRegressor(labelCol=\"label\", featuresCol=\"features\", maxBins=300,\\\n",
    "                           maxMemoryInMB=500, subsamplingRate=0.9, cacheNodeIds=True, \n",
    "                           checkpointInterval=10, numTrees=5)\n",
    "\n",
    "# defining the pipeline\n",
    "pipeline = Pipeline(stages=[indexer_cat, indexer_cont, slicer_cat, slicer_cont, assembler, rf])\n",
    "\n",
    "# defining the parameters to test\n",
    "paramGrid = ParamGridBuilder() \\\n",
    "    .addGrid(rf.maxDepth, [3]) \\\n",
    "    .build()\n",
    "    \n",
    "myRegressor = RegressionEvaluator(metricName=\"mae\")\n",
    "    \n",
    "# defining the cross-validation\n",
    "crossval = CrossValidator(estimator=pipeline,\n",
    "                          estimatorParamMaps=paramGrid,\n",
    "                          evaluator=myRegressor,\n",
    "                          numFolds=3)  # use 3+ folds in practice\n",
    "\n",
    "# Run cross-validation, and choose the best set of parameters.\n",
    "cvModel = crossval.fit(df1)"
   ]
  },
  {
   "cell_type": "code",
   "execution_count": 63,
   "metadata": {
    "collapsed": false
   },
   "outputs": [
    {
     "name": "stdout",
     "output_type": "stream",
     "text": [
      "[1502.4312263494066]\n",
      "1496.8333043057692\n",
      "[VectorIndexer_426baa11bfc634256996, VectorIndexer_44a39d01fe167cb77622, VectorSlicer_4ff28b35d924d51b6a10, VectorSlicer_4f58872cab1f2ec64485, VectorAssembler_4ab7a49df3fc35f97d31, RandomForestRegressionModel (uid=rfr_734c16e8a26e) with 5 trees]\n"
     ]
    }
   ],
   "source": [
    "print(cvModel.avgMetrics)\n",
    "print(myRegressor.evaluate(cvModel.bestModel.transform(df1)))\n",
    "print(cvModel.bestModel.stages)"
   ]
  },
  {
   "cell_type": "markdown",
   "metadata": {},
   "source": [
    "The cross-validation of spark isn't really helpful because we can't get the results are they are calculated. We'll do a custom search for hyperparameters."
   ]
  },
  {
   "cell_type": "code",
   "execution_count": 64,
   "metadata": {
    "collapsed": true
   },
   "outputs": [],
   "source": [
    "# Defining the transformations\n",
    "indexer_cat = VectorIndexer(inputCol=\"cat_features\", outputCol=\"cat_indexedFeatures\", maxCategories=300).fit(df1)\n",
    "indexer_cont = VectorIndexer(inputCol=\"cont_bucked_features\", outputCol=\"cont_indexedFeatures\", maxCategories=7).fit(df1)\n",
    "slicer_cat = VectorSlicer(inputCol=\"cat_indexedFeatures\", outputCol=\"sliced_cat_Features\", indices=features_to_keep)\n",
    "slicer_cont = VectorSlicer(inputCol=\"cont_indexedFeatures\", outputCol=\"sliced_cont_Features\", indices = list(range(2)))\n",
    "assembler = VectorAssembler(inputCols=[\"sliced_cat_Features\", \"sliced_cont_Features\"], outputCol=\"features\")\n",
    "\n",
    "rf = RandomForestRegressor(labelCol=\"label\", featuresCol=\"features\", maxBins=300,\\\n",
    "                           maxMemoryInMB=500, subsamplingRate=0.9, cacheNodeIds=True, \n",
    "                           checkpointInterval=10, numTrees=5)\n",
    "\n",
    "df2 = apply(df1,[indexer_cat, indexer_cont, slicer_cat, slicer_cont, assembler]).cache()\n",
    "df1.unpersist()\n",
    "# defining the pipeline\n",
    "pipeline = Pipeline(stages=[rf])\n"
   ]
  },
  {
   "cell_type": "code",
   "execution_count": null,
   "metadata": {
    "collapsed": false,
    "scrolled": true
   },
   "outputs": [],
   "source": [
    "depths = [3,5,7,10,14,17,20,25]\n",
    "\n",
    "for depth in depths:\n",
    "\n",
    "    # defining the parameters to test\n",
    "    paramGrid = ParamGridBuilder() \\\n",
    "        .addGrid(rf.maxDepth, [depth]) \\\n",
    "        .build()\n",
    "\n",
    "    myRegressor = RegressionEvaluator(metricName=\"mae\")\n",
    "\n",
    "    # defining the cross-validation\n",
    "    crossval = CrossValidator(estimator=pipeline,\n",
    "                              estimatorParamMaps=paramGrid,\n",
    "                              evaluator=myRegressor,\n",
    "                              numFolds=3)  # use 3+ folds in practice\n",
    "\n",
    "    # Run cross-validation, and choose the best set of parameters.\n",
    "    cvModel = crossval.fit(df2)\n",
    "    print(\"depth:\" + str(depth))\n",
    "    print(cvModel.avgMetrics[0]/3)\n",
    "    print(myRegressor.evaluate(cvModel.bestModel.transform(df2)))\n",
    "    print(cvModel.bestModel.stages)"
   ]
  },
  {
   "cell_type": "markdown",
   "metadata": {},
   "source": [
    "Let's print the results:"
   ]
  },
  {
   "cell_type": "code",
   "execution_count": null,
   "metadata": {
    "collapsed": true
   },
   "outputs": [],
   "source": []
  },
  {
   "cell_type": "code",
   "execution_count": null,
   "metadata": {
    "collapsed": true
   },
   "outputs": [],
   "source": []
  },
  {
   "cell_type": "markdown",
   "metadata": {},
   "source": [
    "Now we'll try different sets of features to have an idea of which ones are better."
   ]
  },
  {
   "cell_type": "code",
   "execution_count": 104,
   "metadata": {
    "collapsed": true
   },
   "outputs": [],
   "source": [
    "# We now have 10 set of features to test\n",
    "sets_cat_features = [sorted(random.sample(features_to_keep,60)) for _ in range(10)]\n",
    "sets_cont_features = [sorted(random.sample(list(range(14)),8)) for _ in range(10)]\n",
    "sets_features = list(zip(sets_cat_features,sets_cont_features))"
   ]
  },
  {
   "cell_type": "code",
   "execution_count": null,
   "metadata": {
    "collapsed": true
   },
   "outputs": [],
   "source": [
    "# Defining the transformations\n",
    "indexer_cat = VectorIndexer(inputCol=\"cat_features\", outputCol=\"cat_indexedFeatures\", maxCategories=300).fit(df1)\n",
    "indexer_cont = VectorIndexer(inputCol=\"cont_bucked_features\", outputCol=\"cont_indexedFeatures\", maxCategories=7).fit(df1)\n",
    "\n",
    "\n",
    "rf = RandomForestRegressor(labelCol=\"label\", featuresCol=\"features\", maxBins=300,\\\n",
    "                           maxMemoryInMB=500, subsamplingRate=0.9, cacheNodeIds=True, \n",
    "                           checkpointInterval=10, maxDepth=9, numTrees=5)\n",
    "\n",
    "df2 = apply(df1,[indexer_cat, indexer_cont]).cache()\n",
    "df1.unpersist()"
   ]
  },
  {
   "cell_type": "code",
   "execution_count": null,
   "metadata": {
    "collapsed": true
   },
   "outputs": [],
   "source": [
    "for set_features in sets_features:\n",
    "\n",
    "    slicer_cat=VectorSlicer(inputCol=\"cat_indexedFeatures\", outputCol=\"sliced_cat_Features\", indices=set_features[0])\n",
    "    slicer_cont=VectorSlicer(inputCol=\"cont_indexedFeatures\", outputCol=\"sliced_cont_Features\", indices = set_features[1])\n",
    "    assembler = VectorAssembler(inputCols=[\"sliced_cat_Features\", \"sliced_cont_Features\"], outputCol=\"features\")\n",
    "    pipeline = Pipeline(stages=[slicer_cat, slicer_cont, assembler,rf])\n",
    "    # defining the parameters to test\n",
    "    paramGrid = ParamGridBuilder()\\\n",
    "        .build()\n",
    "\n",
    "    myRegressor = RegressionEvaluator(metricName=\"mae\")\n",
    "\n",
    "    # defining the cross-validation\n",
    "    crossval = CrossValidator(estimator=pipeline,\n",
    "                              estimatorParamMaps=paramGrid,\n",
    "                              evaluator=myRegressor,\n",
    "                              numFolds=3)  # use 3+ folds in practice\n",
    "\n",
    "    # Run cross-validation, and choose the best set of parameters.\n",
    "    cvModel = crossval.fit(df2)\n",
    "    print(\"features: \" + str(set_features))\n",
    "    print(cvModel.avgMetrics[0]/3) # this is because of a bug of spark 2.0.0\n",
    "    print(myRegressor.evaluate(cvModel.bestModel.transform(df2)))\n",
    "    print(cvModel.bestModel.stages)"
   ]
  },
  {
   "cell_type": "markdown",
   "metadata": {},
   "source": [
    "This may be crazy, but i'll try to fit a linear regression to the result of the cross-validation. Reading the weights should tell us what features to keep."
   ]
  },
  {
   "cell_type": "code",
   "execution_count": 117,
   "metadata": {
    "collapsed": false
   },
   "outputs": [],
   "source": [
    "cv_results = []\n",
    "cv_results.append(tuple([[0, 8, 20, 23, 29, 30, 33, 34, 35, 37, 42, 43, 44, 45, 46, 47, 50, 51, 52, 53, 54, 55, 56, 57, 58, 59, 63, 64, 66, 67, 68, 69, 70, 72, 73, 74, 75, 78, 81, 82, 83, 84, 85, 88, 89, 91, 92, 93, 96, 98, 100, 101, 103, 106, 107, 108, 109, 112, 114, 115], [0, 1, 2, 5, 7, 9, 11, 13],1431.54795088]))\n",
    "cv_results.append(tuple([[0, 11, 12, 13, 15, 18, 20, 23, 25, 26, 28, 29, 31, 33, 35, 36, 37, 38, 40, 41, 43, 45, 46, 47, 48, 49, 50, 53, 54, 57, 59, 60, 65, 67, 72, 75, 77, 79, 81, 82, 83, 84, 85, 87, 88, 89, 91, 92, 93, 96, 97, 98, 99, 100, 101, 102, 104, 108, 112, 113], [0, 1, 2, 3, 7, 8, 10, 11],1372.77685625]))\n",
    "cv_results.append(tuple([[8, 9, 12, 15, 16, 18, 19, 21, 22, 24, 29, 31, 34, 37, 39, 41, 42, 43, 44, 45, 47, 48, 52, 53, 55, 57, 58, 59, 61, 63, 65, 71, 73, 75, 76, 78, 79, 80, 81, 82, 84, 87, 89, 91, 93, 94, 96, 97, 98, 99, 102, 103, 104, 106, 107, 108, 109, 112, 113, 114], [0, 1, 2, 3, 4, 5, 8, 12],1382.60758841]))\n",
    "cv_results.append(tuple([[8, 12, 14, 17, 18, 20, 21, 22, 23, 27, 28, 30, 32, 34, 35, 36, 38, 39, 40, 42, 45, 47, 50, 52, 53, 54, 55, 56, 57, 58, 59, 62, 63, 67, 68, 69, 72, 75, 76, 82, 83, 84, 86, 87, 88, 89, 90, 91, 93, 94, 97, 98, 99, 100, 102, 103, 104, 106, 110, 111], [2, 3, 4, 6, 8, 10, 11, 13],1453.34577263]))\n",
    "cv_results.append(tuple([[8, 10, 13, 14, 15, 16, 17, 18, 19, 22, 23, 28, 30, 34, 35, 40, 42, 43, 47, 49, 50, 51, 53, 54, 57, 61, 62, 63, 64, 67, 68, 69, 70, 71, 72, 77, 79, 81, 82, 83, 84, 86, 87, 88, 89, 90, 93, 94, 96, 98, 101, 103, 104, 107, 108, 109, 110, 112, 114, 115], [1, 2, 3, 5, 6, 9, 10, 13],1435.7798927]))\n",
    "cv_results.append(tuple([[10, 12, 13, 14, 17, 19, 20, 22, 23, 26, 32, 33, 34, 36, 37, 38, 39, 40, 43, 47, 50, 54, 55, 57, 60, 61, 63, 64, 65, 66, 67, 69, 70, 72, 74, 76, 77, 78, 80, 81, 82, 84, 85, 86, 87, 89, 90, 92, 93, 97, 99, 100, 102, 107, 109, 110, 111, 112, 113, 115], [0, 2, 3, 5, 6, 8, 10, 12],1406.99266046]))\n",
    "cv_results.append(tuple([[0, 8, 12, 17, 19, 20, 21, 25, 26, 27, 31, 32, 33, 34, 35, 36, 39, 40, 41, 44, 45, 47, 49, 52, 54, 56, 58, 59, 62, 63, 64, 65, 67, 68, 70, 71, 72, 75, 76, 78, 80, 82, 84, 85, 86, 87, 88, 92, 93, 94, 97, 98, 101, 102, 105, 107, 108, 112, 113, 114], [0, 2, 5, 6, 8, 9, 10, 13],1427.41651413]))\n",
    "cv_results.append(tuple([[0, 9, 11, 14, 16, 17, 18, 20, 22, 23, 24, 28, 30, 31, 34, 35, 36, 37, 39, 40, 45, 49, 50, 51, 52, 53, 54, 58, 59, 61, 64, 65, 67, 68, 70, 71, 73, 74, 76, 79, 80, 81, 83, 84, 87, 88, 90, 91, 94, 98, 99, 102, 103, 105, 106, 107, 109, 110, 112, 114], [0, 1, 5, 7, 8, 9, 10, 11],1369.85793953]))\n",
    "cv_results.append(tuple([[8, 12, 14, 15, 17, 18, 23, 26, 27, 30, 31, 36, 37, 39, 40, 43, 44, 45, 46, 47, 49, 50, 51, 54, 55, 56, 58, 61, 62, 63, 65, 66, 71, 72, 74, 77, 78, 80, 81, 85, 86, 87, 89, 90, 91, 93, 96, 97, 98, 99, 100, 101, 104, 105, 106, 107, 108, 109, 112, 115], [0, 3, 4, 8, 9, 10, 12, 13],1405.87042128]))\n",
    "cv_results.append(tuple([[0, 9, 14, 15, 17, 19, 21, 23, 24, 25, 26, 28, 29, 30, 31, 32, 33, 36, 38, 39, 40, 41, 44, 47, 48, 50, 51, 52, 54, 55, 56, 58, 59, 60, 62, 63, 65, 66, 68, 69, 71, 73, 74, 75, 76, 80, 84, 85, 89, 93, 94, 97, 100, 102, 105, 107, 109, 110, 114, 115], [1, 2, 4, 6, 9, 11, 12, 13],1464.52998139]))\n",
    "\n",
    "\n",
    "\n"
   ]
  },
  {
   "cell_type": "code",
   "execution_count": 118,
   "metadata": {
    "collapsed": true
   },
   "outputs": [],
   "source": [
    "def to_binary(my_list,n):\n",
    "    result = [0 for _ in range(n)]\n",
    "    for i in my_list:\n",
    "        result[i] = 1\n",
    "    return result"
   ]
  },
  {
   "cell_type": "code",
   "execution_count": 119,
   "metadata": {
    "collapsed": false
   },
   "outputs": [],
   "source": [
    "x = []\n",
    "y = []\n",
    "for result in cv_results:\n",
    "    xi = to_binary(result[0],116) + to_binary(result[1],14)\n",
    "    x.append(xi)\n",
    "    \n",
    "    y.append(result[2])\n"
   ]
  },
  {
   "cell_type": "code",
   "execution_count": 120,
   "metadata": {
    "collapsed": false
   },
   "outputs": [
    {
     "data": {
      "text/plain": [
       "LinearRegression(copy_X=True, fit_intercept=True, n_jobs=1, normalize=False)"
      ]
     },
     "execution_count": 120,
     "metadata": {},
     "output_type": "execute_result"
    }
   ],
   "source": [
    "from sklearn import linear_model\n",
    "regr = linear_model.LinearRegression()\n",
    "regr.fit(x,y)"
   ]
  },
  {
   "cell_type": "code",
   "execution_count": 124,
   "metadata": {
    "collapsed": false
   },
   "outputs": [
    {
     "name": "stdout",
     "output_type": "stream",
     "text": [
      "Coefficients: \n",
      " [37, 116, 99, 124, 81, 11, 65, 79, 112, 61, 31, 113, 123, 91, 87, 49, 45, 18, 80, 16, 12, 126, 43, 121, 102, 20, 77, 9, 24, 106, 98, 22, 53, 46, 78, 96, 92, 13, 36, 119, 117, 48, 108, 0, 73, 74, 39, 64, 70, 90, 109, 67, 105, 41, 26, 128, 71, 104, 60, 107, 59, 76, 83, 34, 1, 4, 6, 5, 2, 95, 3, 7, 15, 29, 97, 40, 103, 35, 88, 57, 84, 101, 10, 85, 127, 82, 23, 50, 25, 58, 111, 33, 114, 28, 54, 51, 72, 38, 52, 14, 27, 44, 66, 125, 19, 17, 94, 100, 110, 89, 120, 86, 75, 55, 47, 93, 8, 42, 118, 21, 115, 30, 32, 63, 68, 56, 122, 62, 69, 129]\n"
     ]
    }
   ],
   "source": [
    "print('Coefficients: \\n', sorted(range(len(regr.coef_)), key=lambda k: regr.coef_[k]))"
   ]
  },
  {
   "cell_type": "markdown",
   "metadata": {},
   "source": [
    "given a list, we should be able to search the best combinaisons of features:"
   ]
  },
  {
   "cell_type": "code",
   "execution_count": 128,
   "metadata": {
    "collapsed": false
   },
   "outputs": [],
   "source": [
    "feat_cat = [37, 116, 99, 124, 81, 11, 65, 79, 112, 61, 31, 113, 123, 91, 87, 49, 45, 18, 80, 16, 12, 126, 43, 121, 102, 20, 77, 9, 24, 106, 98, 22, 53, 46, 78, 96, 92, 13, 36, 119, 117, 48, 108, 0, 73, 74, 39, 64, 70, 90, 109, 67, 105, 41, 26, 128, 71, 104, 60, 107, 59, 76, 83, 34, 1, 4, 6, 5, 2, 95, 3, 7, 15, 29, 97, 40, 103, 35, 88, 57, 84, 101, 10, 85, 127, 82, 23, 50, 25, 58, 111, 33, 114, 28, 54, 51, 72, 38]\n",
    "feat_cont = [a - 116  for a in feat_cat if a>=116]\n",
    "feat_cat = [a for a in feat_cat if a<116]\n",
    "# We now have 10 set of features to test\n",
    "sets_cat_features = [sorted(random.sample(feat_cat,60)) for _ in range(10)]\n",
    "sets_cont_features = [sorted(random.sample(feat_cont,8)) for _ in range(10)]\n",
    "sets_features = list(zip(sets_cat_features,sets_cont_features))"
   ]
  },
  {
   "cell_type": "markdown",
   "metadata": {},
   "source": [
    "let's try to parse the results, it'll be easier to use it"
   ]
  },
  {
   "cell_type": "code",
   "execution_count": 203,
   "metadata": {
    "collapsed": false
   },
   "outputs": [],
   "source": [
    "x = []\n",
    "y = []\n",
    "f = open(\"results_cluster.txt\",\"r\")\n",
    "for i,line in enumerate(f):\n",
    "    if line not in ['\\n', '\\r\\n']:\n",
    "        if i%4 == 0:\n",
    "            g = line[12:-3]\n",
    "            LOGGER.warn(g)\n",
    "            a, b = g.split(\"]\")\n",
    "            b = b[3:]\n",
    "            a = [int(j) for j in a.split(\",\")]\n",
    "            b = [int(j) for j in b.split(\",\")]\n",
    "            x.append(to_binary(a,116) + to_binary(b,14))\n",
    "        if i%4 ==1:\n",
    "            y.append(float(line[:-1]))"
   ]
  },
  {
   "cell_type": "code",
   "execution_count": 204,
   "metadata": {
    "collapsed": false
   },
   "outputs": [
    {
     "data": {
      "text/plain": [
       "LinearRegression(copy_X=True, fit_intercept=True, n_jobs=1, normalize=False)"
      ]
     },
     "execution_count": 204,
     "metadata": {},
     "output_type": "execute_result"
    }
   ],
   "source": [
    "regr = linear_model.LinearRegression()\n",
    "regr.fit(x,y)"
   ]
  },
  {
   "cell_type": "code",
   "execution_count": 205,
   "metadata": {
    "collapsed": false,
    "scrolled": false
   },
   "outputs": [
    {
     "name": "stdout",
     "output_type": "stream",
     "text": [
      "Coefficients: \n",
      " [118, 79, 116, 14, 23, 61, 6, 57, 109, 59, 121, 78, 54, 99, 68, 47, 119, 117, 15, 49, 45, 124, 126, 97, 0, 127, 76, 129, 80, 81, 25, 114, 36, 92, 91, 58, 103, 104, 18, 65, 113, 128, 7, 27, 100, 101, 82, 20, 106, 53, 122, 13, 72, 105, 40, 9, 108, 115, 35, 63, 17, 83, 66, 93, 52, 24, 60, 8, 1, 75, 102, 39, 84, 28, 51, 85, 43, 86, 33, 44, 34, 70, 21, 95, 87, 16, 3, 69, 74, 123, 71, 26, 56, 94, 2, 29, 73, 38, 30, 77, 11, 19, 37, 64, 90, 12, 46, 50, 41, 112, 31, 10, 107, 48, 111, 120, 55, 22, 62, 88, 42, 4, 125, 96, 98, 32, 5, 110, 67, 89]\n"
     ]
    }
   ],
   "source": [
    "print('Coefficients: \\n', sorted(range(len(regr.coef_)), key=lambda k: regr.coef_[k]))"
   ]
  },
  {
   "cell_type": "code",
   "execution_count": 206,
   "metadata": {
    "collapsed": false,
    "scrolled": true
   },
   "outputs": [
    {
     "data": {
      "text/plain": [
       "[-24.34608711058107,\n",
       " -23.96121071208772,\n",
       " -22.833092826059875,\n",
       " -22.417759974304964,\n",
       " -19.41323596719301,\n",
       " -17.769796910249664,\n",
       " -13.981240424954068,\n",
       " -12.037945880656888,\n",
       " -12.022632507887598,\n",
       " -11.243139846628056,\n",
       " -11.138901683645873,\n",
       " -11.096599511662994,\n",
       " -10.689322973732185,\n",
       " -9.3010524368919558,\n",
       " -9.1023924714377564,\n",
       " -7.5937417627592323,\n",
       " -7.4310486509665266,\n",
       " -7.1460850835086323,\n",
       " -7.0806478160123749,\n",
       " -7.0003509482078865,\n",
       " -6.7722103607461177,\n",
       " -6.4632575379510326,\n",
       " -6.3283253557476655,\n",
       " -5.0618566316580038,\n",
       " -4.9127648317981905,\n",
       " -4.7691068844622517,\n",
       " -4.3631250912961965,\n",
       " -4.3069760664321279,\n",
       " -4.2104635111248836,\n",
       " -4.1974093422979397,\n",
       " -4.1027140067414445,\n",
       " -3.8884465089143823,\n",
       " -3.8268796720604055,\n",
       " -3.8109257575731759,\n",
       " -3.4804396901984052,\n",
       " -3.2834973524173847,\n",
       " -3.1508780503756979,\n",
       " -3.1078552932334231,\n",
       " -2.9139638916870148,\n",
       " -2.6936952976410007,\n",
       " -2.3177243533806173,\n",
       " -2.2477351184445284,\n",
       " -2.1846083022503215,\n",
       " -2.0574471611072855,\n",
       " -1.7591961265984442,\n",
       " -1.7388422344997592,\n",
       " -1.669220770617176,\n",
       " -1.6689849272734842,\n",
       " -1.5881713934194366,\n",
       " -1.5794008117175757,\n",
       " -1.5369646683243876,\n",
       " -1.234411495085709,\n",
       " -1.0642554074622659,\n",
       " -0.96041018955532476,\n",
       " -0.69158161074816671,\n",
       " -0.39164159098707851,\n",
       " -0.2841309169537789,\n",
       " -0.27716190423804132,\n",
       " -0.25807227783091657,\n",
       " -0.1135869391621942,\n",
       " -0.073457365461595536,\n",
       " -0.023890122650665591,\n",
       " 0.41195133548453478,\n",
       " 0.51397903219356955,\n",
       " 0.58646550917236717,\n",
       " 1.2410099935524617,\n",
       " 1.714498045813843,\n",
       " 2.1955139046562833,\n",
       " 2.2016642650502796,\n",
       " 2.7829701234475461,\n",
       " 2.9339416669195435,\n",
       " 2.9395470441266376,\n",
       " 2.9863908032736308,\n",
       " 2.996588482250282,\n",
       " 3.2318797571559381,\n",
       " 3.3673565480195746,\n",
       " 3.4379184898715049,\n",
       " 3.6705687529381645,\n",
       " 3.7152781435670095,\n",
       " 3.781274988393891,\n",
       " 3.8530491377639615,\n",
       " 3.8605236993738217,\n",
       " 4.1036085235175044,\n",
       " 4.1919444664941672,\n",
       " 4.2561914003521721,\n",
       " 4.2821779955454202,\n",
       " 4.2967295002170447,\n",
       " 4.3174089042368164,\n",
       " 4.3637893705960984,\n",
       " 4.4082793447338924,\n",
       " 4.5179905322212273,\n",
       " 4.5842858067373431,\n",
       " 4.5881515014374656,\n",
       " 4.6639577550466438,\n",
       " 4.6743165266358329,\n",
       " 4.714029866831936,\n",
       " 4.8149058464170444,\n",
       " 5.0868402075716475,\n",
       " 5.8866926085607494,\n",
       " 5.982916163752213,\n",
       " 6.4036598771348903,\n",
       " 6.7454817839777146,\n",
       " 6.9121083900543576,\n",
       " 7.0762093985405601,\n",
       " 7.0966004285022937,\n",
       " 7.2343324403468268,\n",
       " 7.2509926577712456,\n",
       " 7.3047200966516508,\n",
       " 7.5278061738887088,\n",
       " 7.5521133955649944,\n",
       " 7.8560215194758882,\n",
       " 8.4157992089265168,\n",
       " 8.6175875348470861,\n",
       " 9.2275480738027547,\n",
       " 9.6412786467470077,\n",
       " 9.7205564137340623,\n",
       " 9.9374781580483535,\n",
       " 10.279379859289715,\n",
       " 11.055432753586029,\n",
       " 11.413899371041826,\n",
       " 11.461950061987233,\n",
       " 11.738368781141943,\n",
       " 12.043561384505482,\n",
       " 12.448650946338685,\n",
       " 13.442034150237607,\n",
       " 14.121857384154909,\n",
       " 15.55622627964463,\n",
       " 16.233133363211067,\n",
       " 17.709271397008187,\n",
       " 19.197005269001654]"
      ]
     },
     "execution_count": 206,
     "metadata": {},
     "output_type": "execute_result"
    }
   ],
   "source": [
    "sorted(regr.coef_)"
   ]
  },
  {
   "cell_type": "code",
   "execution_count": null,
   "metadata": {
    "collapsed": true
   },
   "outputs": [],
   "source": []
  }
 ],
 "metadata": {
  "anaconda-cloud": {},
  "kernelspec": {
   "display_name": "Python [conda root]",
   "language": "python",
   "name": "conda-root-py"
  },
  "language_info": {
   "codemirror_mode": {
    "name": "ipython",
    "version": 3
   },
   "file_extension": ".py",
   "mimetype": "text/x-python",
   "name": "python",
   "nbconvert_exporter": "python",
   "pygments_lexer": "ipython3",
   "version": "3.5.2"
  }
 },
 "nbformat": 4,
 "nbformat_minor": 1
}
